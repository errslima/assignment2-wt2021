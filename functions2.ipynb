{
 "cells": [
  {
   "cell_type": "code",
   "execution_count": null,
   "id": "b88dfacc-b1f7-48ed-8ab4-3b2a5a0212d9",
   "metadata": {},
   "outputs": [],
   "source": [
    "import numpy as np\n",
    "import re\n",
    "\n",
    "# Create a function that can check the content pattern for the columns 'ID' and the datetime columns. Return a message if the content follows the right pattern, return the original value if it doesn't.\n",
    "\n",
    "def homo_check(x, id = \"ID\"):\n",
    "    x = str(x)\n",
    "    if id == \"ID\":\n",
    "        if bool(re.match(\"^[A-Z]{1}[\\-]{1}[0-9]+$\", x)):\n",
    "            return \"correct ID\"\n",
    "        else:\n",
    "            return(x)\n",
    "    elif id == \"datetime\":\n",
    "        if bool(re.match(\"^[0-9]{4}[\\-]{1}[0-9]{2}[\\-]{1}[0-9]{2}[ ]{1}[0-9]{2}[:]{1}[0-9]{2}[:]{1}[0-9]{2}$\", x)):\n",
    "            return \"parsed_date\"\n",
    "        else:\n",
    "            return(x)\n"
   ]
  }
 ],
 "metadata": {
  "kernelspec": {
   "display_name": "Python 3 (ipykernel)",
   "language": "python",
   "name": "python3"
  },
  "language_info": {
   "codemirror_mode": {
    "name": "ipython",
    "version": 3
   },
   "file_extension": ".py",
   "mimetype": "text/x-python",
   "name": "python",
   "nbconvert_exporter": "python",
   "pygments_lexer": "ipython3",
   "version": "3.9.1"
  }
 },
 "nbformat": 4,
 "nbformat_minor": 5
}
