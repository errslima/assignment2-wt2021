{
 "cells": [
  {
   "cell_type": "code",
   "execution_count": 3,
   "id": "9006049d-ff83-4959-92f9-6aa889dee3b6",
   "metadata": {},
   "outputs": [
    {
     "data": {
      "text/html": [
       "<div>\n",
       "<style scoped>\n",
       "    .dataframe tbody tr th:only-of-type {\n",
       "        vertical-align: middle;\n",
       "    }\n",
       "\n",
       "    .dataframe tbody tr th {\n",
       "        vertical-align: top;\n",
       "    }\n",
       "\n",
       "    .dataframe thead th {\n",
       "        text-align: right;\n",
       "    }\n",
       "</style>\n",
       "<table border=\"1\" class=\"dataframe\">\n",
       "  <thead>\n",
       "    <tr style=\"text-align: right;\">\n",
       "      <th></th>\n",
       "      <th>ID</th>\n",
       "      <th>Source</th>\n",
       "      <th>TMC</th>\n",
       "      <th>Severity</th>\n",
       "      <th>Start_Time</th>\n",
       "      <th>End_Time</th>\n",
       "      <th>Start_Lat</th>\n",
       "      <th>Start_Lng</th>\n",
       "      <th>End_Lat</th>\n",
       "      <th>End_Lng</th>\n",
       "      <th>...</th>\n",
       "      <th>Roundabout</th>\n",
       "      <th>Station</th>\n",
       "      <th>Stop</th>\n",
       "      <th>Traffic_Calming</th>\n",
       "      <th>Traffic_Signal</th>\n",
       "      <th>Turning_Loop</th>\n",
       "      <th>Sunrise_Sunset</th>\n",
       "      <th>Civil_Twilight</th>\n",
       "      <th>Nautical_Twilight</th>\n",
       "      <th>Astronomical_Twilight</th>\n",
       "    </tr>\n",
       "  </thead>\n",
       "  <tbody>\n",
       "    <tr>\n",
       "      <th>0</th>\n",
       "      <td>A-1</td>\n",
       "      <td>MapQuest</td>\n",
       "      <td>201.0</td>\n",
       "      <td>3</td>\n",
       "      <td>2016-02-08 05:46:00</td>\n",
       "      <td>2016-02-08 11:00:00</td>\n",
       "      <td>39.865147</td>\n",
       "      <td>-84.058723</td>\n",
       "      <td>NaN</td>\n",
       "      <td>NaN</td>\n",
       "      <td>...</td>\n",
       "      <td>False</td>\n",
       "      <td>False</td>\n",
       "      <td>False</td>\n",
       "      <td>False</td>\n",
       "      <td>False</td>\n",
       "      <td>False</td>\n",
       "      <td>Night</td>\n",
       "      <td>Night</td>\n",
       "      <td>Night</td>\n",
       "      <td>Night</td>\n",
       "    </tr>\n",
       "    <tr>\n",
       "      <th>1</th>\n",
       "      <td>A-2</td>\n",
       "      <td>MapQuest</td>\n",
       "      <td>201.0</td>\n",
       "      <td>2</td>\n",
       "      <td>2016-02-08 06:07:59</td>\n",
       "      <td>2016-02-08 06:37:59</td>\n",
       "      <td>39.928059</td>\n",
       "      <td>-82.831184</td>\n",
       "      <td>NaN</td>\n",
       "      <td>NaN</td>\n",
       "      <td>...</td>\n",
       "      <td>False</td>\n",
       "      <td>False</td>\n",
       "      <td>False</td>\n",
       "      <td>False</td>\n",
       "      <td>False</td>\n",
       "      <td>False</td>\n",
       "      <td>Night</td>\n",
       "      <td>Night</td>\n",
       "      <td>Night</td>\n",
       "      <td>Day</td>\n",
       "    </tr>\n",
       "    <tr>\n",
       "      <th>2</th>\n",
       "      <td>A-3</td>\n",
       "      <td>MapQuest</td>\n",
       "      <td>201.0</td>\n",
       "      <td>2</td>\n",
       "      <td>2016-02-08 06:49:27</td>\n",
       "      <td>2016-02-08 07:19:27</td>\n",
       "      <td>39.063148</td>\n",
       "      <td>-84.032608</td>\n",
       "      <td>NaN</td>\n",
       "      <td>NaN</td>\n",
       "      <td>...</td>\n",
       "      <td>False</td>\n",
       "      <td>False</td>\n",
       "      <td>False</td>\n",
       "      <td>False</td>\n",
       "      <td>True</td>\n",
       "      <td>False</td>\n",
       "      <td>Night</td>\n",
       "      <td>Night</td>\n",
       "      <td>Day</td>\n",
       "      <td>Day</td>\n",
       "    </tr>\n",
       "    <tr>\n",
       "      <th>3</th>\n",
       "      <td>A-4</td>\n",
       "      <td>MapQuest</td>\n",
       "      <td>201.0</td>\n",
       "      <td>3</td>\n",
       "      <td>2016-02-08 07:23:34</td>\n",
       "      <td>2016-02-08 07:53:34</td>\n",
       "      <td>39.747753</td>\n",
       "      <td>-84.205582</td>\n",
       "      <td>NaN</td>\n",
       "      <td>NaN</td>\n",
       "      <td>...</td>\n",
       "      <td>False</td>\n",
       "      <td>False</td>\n",
       "      <td>False</td>\n",
       "      <td>False</td>\n",
       "      <td>False</td>\n",
       "      <td>False</td>\n",
       "      <td>Night</td>\n",
       "      <td>Day</td>\n",
       "      <td>Day</td>\n",
       "      <td>Day</td>\n",
       "    </tr>\n",
       "    <tr>\n",
       "      <th>4</th>\n",
       "      <td>A-5</td>\n",
       "      <td>MapQuest</td>\n",
       "      <td>201.0</td>\n",
       "      <td>2</td>\n",
       "      <td>2016-02-08 07:39:07</td>\n",
       "      <td>2016-02-08 08:09:07</td>\n",
       "      <td>39.627781</td>\n",
       "      <td>-84.188354</td>\n",
       "      <td>NaN</td>\n",
       "      <td>NaN</td>\n",
       "      <td>...</td>\n",
       "      <td>False</td>\n",
       "      <td>False</td>\n",
       "      <td>False</td>\n",
       "      <td>False</td>\n",
       "      <td>True</td>\n",
       "      <td>False</td>\n",
       "      <td>Day</td>\n",
       "      <td>Day</td>\n",
       "      <td>Day</td>\n",
       "      <td>Day</td>\n",
       "    </tr>\n",
       "    <tr>\n",
       "      <th>...</th>\n",
       "      <td>...</td>\n",
       "      <td>...</td>\n",
       "      <td>...</td>\n",
       "      <td>...</td>\n",
       "      <td>...</td>\n",
       "      <td>...</td>\n",
       "      <td>...</td>\n",
       "      <td>...</td>\n",
       "      <td>...</td>\n",
       "      <td>...</td>\n",
       "      <td>...</td>\n",
       "      <td>...</td>\n",
       "      <td>...</td>\n",
       "      <td>...</td>\n",
       "      <td>...</td>\n",
       "      <td>...</td>\n",
       "      <td>...</td>\n",
       "      <td>...</td>\n",
       "      <td>...</td>\n",
       "      <td>...</td>\n",
       "      <td>...</td>\n",
       "    </tr>\n",
       "    <tr>\n",
       "      <th>3513612</th>\n",
       "      <td>A-3513776</td>\n",
       "      <td>Bing</td>\n",
       "      <td>NaN</td>\n",
       "      <td>2</td>\n",
       "      <td>2019-08-23 18:03:25</td>\n",
       "      <td>2019-08-23 18:32:01</td>\n",
       "      <td>34.002480</td>\n",
       "      <td>-117.379360</td>\n",
       "      <td>33.99888</td>\n",
       "      <td>-117.37094</td>\n",
       "      <td>...</td>\n",
       "      <td>False</td>\n",
       "      <td>False</td>\n",
       "      <td>False</td>\n",
       "      <td>False</td>\n",
       "      <td>False</td>\n",
       "      <td>False</td>\n",
       "      <td>Day</td>\n",
       "      <td>Day</td>\n",
       "      <td>Day</td>\n",
       "      <td>Day</td>\n",
       "    </tr>\n",
       "    <tr>\n",
       "      <th>3513613</th>\n",
       "      <td>A-3513777</td>\n",
       "      <td>Bing</td>\n",
       "      <td>NaN</td>\n",
       "      <td>2</td>\n",
       "      <td>2019-08-23 19:11:30</td>\n",
       "      <td>2019-08-23 19:38:23</td>\n",
       "      <td>32.766960</td>\n",
       "      <td>-117.148060</td>\n",
       "      <td>32.76555</td>\n",
       "      <td>-117.15363</td>\n",
       "      <td>...</td>\n",
       "      <td>False</td>\n",
       "      <td>False</td>\n",
       "      <td>False</td>\n",
       "      <td>False</td>\n",
       "      <td>False</td>\n",
       "      <td>False</td>\n",
       "      <td>Day</td>\n",
       "      <td>Day</td>\n",
       "      <td>Day</td>\n",
       "      <td>Day</td>\n",
       "    </tr>\n",
       "    <tr>\n",
       "      <th>3513614</th>\n",
       "      <td>A-3513778</td>\n",
       "      <td>Bing</td>\n",
       "      <td>NaN</td>\n",
       "      <td>2</td>\n",
       "      <td>2019-08-23 19:00:21</td>\n",
       "      <td>2019-08-23 19:28:49</td>\n",
       "      <td>33.775450</td>\n",
       "      <td>-117.847790</td>\n",
       "      <td>33.77740</td>\n",
       "      <td>-117.85727</td>\n",
       "      <td>...</td>\n",
       "      <td>False</td>\n",
       "      <td>False</td>\n",
       "      <td>False</td>\n",
       "      <td>False</td>\n",
       "      <td>False</td>\n",
       "      <td>False</td>\n",
       "      <td>Day</td>\n",
       "      <td>Day</td>\n",
       "      <td>Day</td>\n",
       "      <td>Day</td>\n",
       "    </tr>\n",
       "    <tr>\n",
       "      <th>3513615</th>\n",
       "      <td>A-3513779</td>\n",
       "      <td>Bing</td>\n",
       "      <td>NaN</td>\n",
       "      <td>2</td>\n",
       "      <td>2019-08-23 19:00:21</td>\n",
       "      <td>2019-08-23 19:29:42</td>\n",
       "      <td>33.992460</td>\n",
       "      <td>-118.403020</td>\n",
       "      <td>33.98311</td>\n",
       "      <td>-118.39565</td>\n",
       "      <td>...</td>\n",
       "      <td>False</td>\n",
       "      <td>False</td>\n",
       "      <td>False</td>\n",
       "      <td>False</td>\n",
       "      <td>False</td>\n",
       "      <td>False</td>\n",
       "      <td>Day</td>\n",
       "      <td>Day</td>\n",
       "      <td>Day</td>\n",
       "      <td>Day</td>\n",
       "    </tr>\n",
       "    <tr>\n",
       "      <th>3513616</th>\n",
       "      <td>A-3513780</td>\n",
       "      <td>Bing</td>\n",
       "      <td>NaN</td>\n",
       "      <td>2</td>\n",
       "      <td>2019-08-23 18:52:06</td>\n",
       "      <td>2019-08-23 19:21:31</td>\n",
       "      <td>34.133930</td>\n",
       "      <td>-117.230920</td>\n",
       "      <td>34.13736</td>\n",
       "      <td>-117.23934</td>\n",
       "      <td>...</td>\n",
       "      <td>False</td>\n",
       "      <td>False</td>\n",
       "      <td>False</td>\n",
       "      <td>False</td>\n",
       "      <td>False</td>\n",
       "      <td>False</td>\n",
       "      <td>Day</td>\n",
       "      <td>Day</td>\n",
       "      <td>Day</td>\n",
       "      <td>Day</td>\n",
       "    </tr>\n",
       "  </tbody>\n",
       "</table>\n",
       "<p>3513617 rows × 49 columns</p>\n",
       "</div>"
      ],
      "text/plain": [
       "                ID    Source    TMC  Severity           Start_Time  \\\n",
       "0              A-1  MapQuest  201.0         3  2016-02-08 05:46:00   \n",
       "1              A-2  MapQuest  201.0         2  2016-02-08 06:07:59   \n",
       "2              A-3  MapQuest  201.0         2  2016-02-08 06:49:27   \n",
       "3              A-4  MapQuest  201.0         3  2016-02-08 07:23:34   \n",
       "4              A-5  MapQuest  201.0         2  2016-02-08 07:39:07   \n",
       "...            ...       ...    ...       ...                  ...   \n",
       "3513612  A-3513776      Bing    NaN         2  2019-08-23 18:03:25   \n",
       "3513613  A-3513777      Bing    NaN         2  2019-08-23 19:11:30   \n",
       "3513614  A-3513778      Bing    NaN         2  2019-08-23 19:00:21   \n",
       "3513615  A-3513779      Bing    NaN         2  2019-08-23 19:00:21   \n",
       "3513616  A-3513780      Bing    NaN         2  2019-08-23 18:52:06   \n",
       "\n",
       "                    End_Time  Start_Lat   Start_Lng   End_Lat    End_Lng  ...  \\\n",
       "0        2016-02-08 11:00:00  39.865147  -84.058723       NaN        NaN  ...   \n",
       "1        2016-02-08 06:37:59  39.928059  -82.831184       NaN        NaN  ...   \n",
       "2        2016-02-08 07:19:27  39.063148  -84.032608       NaN        NaN  ...   \n",
       "3        2016-02-08 07:53:34  39.747753  -84.205582       NaN        NaN  ...   \n",
       "4        2016-02-08 08:09:07  39.627781  -84.188354       NaN        NaN  ...   \n",
       "...                      ...        ...         ...       ...        ...  ...   \n",
       "3513612  2019-08-23 18:32:01  34.002480 -117.379360  33.99888 -117.37094  ...   \n",
       "3513613  2019-08-23 19:38:23  32.766960 -117.148060  32.76555 -117.15363  ...   \n",
       "3513614  2019-08-23 19:28:49  33.775450 -117.847790  33.77740 -117.85727  ...   \n",
       "3513615  2019-08-23 19:29:42  33.992460 -118.403020  33.98311 -118.39565  ...   \n",
       "3513616  2019-08-23 19:21:31  34.133930 -117.230920  34.13736 -117.23934  ...   \n",
       "\n",
       "         Roundabout Station   Stop Traffic_Calming Traffic_Signal  \\\n",
       "0             False   False  False           False          False   \n",
       "1             False   False  False           False          False   \n",
       "2             False   False  False           False           True   \n",
       "3             False   False  False           False          False   \n",
       "4             False   False  False           False           True   \n",
       "...             ...     ...    ...             ...            ...   \n",
       "3513612       False   False  False           False          False   \n",
       "3513613       False   False  False           False          False   \n",
       "3513614       False   False  False           False          False   \n",
       "3513615       False   False  False           False          False   \n",
       "3513616       False   False  False           False          False   \n",
       "\n",
       "        Turning_Loop Sunrise_Sunset Civil_Twilight Nautical_Twilight  \\\n",
       "0              False          Night          Night             Night   \n",
       "1              False          Night          Night             Night   \n",
       "2              False          Night          Night               Day   \n",
       "3              False          Night            Day               Day   \n",
       "4              False            Day            Day               Day   \n",
       "...              ...            ...            ...               ...   \n",
       "3513612        False            Day            Day               Day   \n",
       "3513613        False            Day            Day               Day   \n",
       "3513614        False            Day            Day               Day   \n",
       "3513615        False            Day            Day               Day   \n",
       "3513616        False            Day            Day               Day   \n",
       "\n",
       "        Astronomical_Twilight  \n",
       "0                       Night  \n",
       "1                         Day  \n",
       "2                         Day  \n",
       "3                         Day  \n",
       "4                         Day  \n",
       "...                       ...  \n",
       "3513612                   Day  \n",
       "3513613                   Day  \n",
       "3513614                   Day  \n",
       "3513615                   Day  \n",
       "3513616                   Day  \n",
       "\n",
       "[3513617 rows x 49 columns]"
      ]
     },
     "execution_count": 3,
     "metadata": {},
     "output_type": "execute_result"
    }
   ],
   "source": [
    "import pandas as pd\n",
    "import numpy as np\n",
    "import re\n",
    "\n",
    "# Remove restrictions on amount of rows and columns that can be displayed in pandas dataframes.\n",
    "pd.set_option('display.max_rows', None)\n",
    "pd.set_option('display.max_columns', None)\n",
    "pd.set_option('display.width', None)\n",
    "pd.set_option('display.max_colwidth', None)\n",
    "\n",
    "data = pd.read_csv(\"data/US_Accidents_June20.csv\")\n",
    "data"
   ]
  },
  {
   "cell_type": "code",
   "execution_count": null,
   "id": "83951c32-bae9-4fcf-83dc-01079b8ba0f5",
   "metadata": {},
   "outputs": [],
   "source": [
    "data.drop_duplicates(inplace = True)"
   ]
  },
  {
   "cell_type": "code",
   "execution_count": 21,
   "id": "01d10194-5260-4740-af5c-8e43d560916c",
   "metadata": {},
   "outputs": [
    {
     "data": {
      "text/plain": [
       "ID                               object\n",
       "Source                           object\n",
       "TMC                             float64\n",
       "Severity                          int64\n",
       "Start_Time                       object\n",
       "End_Time                         object\n",
       "Start_Lat                       float64\n",
       "Start_Lng                       float64\n",
       "End_Lat                         float64\n",
       "End_Lng                         float64\n",
       "Distance(mi)                    float64\n",
       "Description                      object\n",
       "Number                          float64\n",
       "Street                           object\n",
       "Side                             object\n",
       "City                             object\n",
       "County                           object\n",
       "State                            object\n",
       "Zipcode                          object\n",
       "Country                          object\n",
       "Timezone                         object\n",
       "Airport_Code                     object\n",
       "Weather_Timestamp                object\n",
       "Temperature(F)                  float64\n",
       "Wind_Chill(F)                   float64\n",
       "Humidity(%)                     float64\n",
       "Pressure(in)                    float64\n",
       "Visibility(mi)                  float64\n",
       "Wind_Direction                   object\n",
       "Wind_Speed(mph)                 float64\n",
       "Precipitation(in)               float64\n",
       "Weather_Condition                object\n",
       "Amenity                            bool\n",
       "Bump                               bool\n",
       "Crossing                           bool\n",
       "Give_Way                           bool\n",
       "Junction                           bool\n",
       "No_Exit                            bool\n",
       "Railway                            bool\n",
       "Roundabout                         bool\n",
       "Station                            bool\n",
       "Stop                               bool\n",
       "Traffic_Calming                    bool\n",
       "Traffic_Signal                     bool\n",
       "Turning_Loop                       bool\n",
       "Sunrise_Sunset                   object\n",
       "Civil_Twilight                   object\n",
       "Nautical_Twilight                object\n",
       "Astronomical_Twilight            object\n",
       "parsed_id                        object\n",
       "parsed_starttime         datetime64[ns]\n",
       "dtype: object"
      ]
     },
     "execution_count": 21,
     "metadata": {},
     "output_type": "execute_result"
    }
   ],
   "source": [
    "data.dtypes"
   ]
  },
  {
   "cell_type": "code",
   "execution_count": 26,
   "id": "bb53557f-5c30-4f12-990a-b6023876d175",
   "metadata": {},
   "outputs": [],
   "source": [
    "# Create a function that can check the content pattern for the columns 'ID' and the datetime columns. Return a message if the content follows the right pattern, return the original value if it doesn't.\n",
    "\n",
    "def homo_check(x, id = \"ID\"):\n",
    "    x = str(x)\n",
    "    if id == \"ID\":\n",
    "        if bool(re.match(\"^[A-Z]{1}[\\-]{1}[0-9]+$\", x)):\n",
    "            return \"correct ID\"\n",
    "        else:\n",
    "            return(x)\n",
    "    elif id == \"datetime\":\n",
    "        if bool(re.match(\"^[0-9]{4}[\\-]{1}[0-9]{2}[\\-]{1}[0-9]{2}[ ]{1}[0-9]{2}[:]{1}[0-9]{2}[:]{1}[0-9]{2}$\", x)):\n",
    "            return \"parsed_date\"\n",
    "        else:\n",
    "            return(x)"
   ]
  },
  {
   "cell_type": "code",
   "execution_count": 14,
   "id": "434ae090-7ab7-4b77-af0c-9862f8607b93",
   "metadata": {},
   "outputs": [
    {
     "data": {
      "text/plain": [
       "Index(['ID', 'Source', 'TMC', 'Severity', 'Start_Time', 'End_Time',\n",
       "       'Start_Lat', 'Start_Lng', 'End_Lat', 'End_Lng', 'Distance(mi)',\n",
       "       'Description', 'Number', 'Street', 'Side', 'City', 'County', 'State',\n",
       "       'Zipcode', 'Country', 'Timezone', 'Airport_Code', 'Weather_Timestamp',\n",
       "       'Temperature(F)', 'Wind_Chill(F)', 'Humidity(%)', 'Pressure(in)',\n",
       "       'Visibility(mi)', 'Wind_Direction', 'Wind_Speed(mph)',\n",
       "       'Precipitation(in)', 'Weather_Condition', 'Amenity', 'Bump', 'Crossing',\n",
       "       'Give_Way', 'Junction', 'No_Exit', 'Railway', 'Roundabout', 'Station',\n",
       "       'Stop', 'Traffic_Calming', 'Traffic_Signal', 'Turning_Loop',\n",
       "       'Sunrise_Sunset', 'Civil_Twilight', 'Nautical_Twilight',\n",
       "       'Astronomical_Twilight', 'parsed_id'],\n",
       "      dtype='object')"
      ]
     },
     "execution_count": 14,
     "metadata": {},
     "output_type": "execute_result"
    }
   ],
   "source": [
    "data['parsed_id'] = data.apply(lambda x: homo_check(x['ID'], id = \"ID\"), axis = 1)\n",
    "data.parsed_id.value_counts()"
   ]
  },
  {
   "cell_type": "code",
   "execution_count": 15,
   "id": "f89bcdc4-7a2b-45f9-a240-1a4a7434e9e7",
   "metadata": {},
   "outputs": [
    {
     "data": {
      "text/plain": [
       "correct ID    3513617\n",
       "Name: parsed_id, dtype: int64"
      ]
     },
     "execution_count": 15,
     "metadata": {},
     "output_type": "execute_result"
    }
   ],
   "source": [
    "data['parsed_id'] = data.apply(lambda x: homo_check(x['ID'], id = \"ID\"), axis = 1)\n",
    "data.parsed_id.value_counts()"
   ]
  },
  {
   "cell_type": "code",
   "execution_count": 17,
   "id": "5671e820-cdc1-4348-9ade-c7f70724fd89",
   "metadata": {},
   "outputs": [
    {
     "data": {
      "text/plain": [
       "MapQuest         2414301\n",
       "Bing             1034799\n",
       "MapQuest-Bing      64517\n",
       "Name: Source, dtype: int64"
      ]
     },
     "execution_count": 17,
     "metadata": {},
     "output_type": "execute_result"
    }
   ],
   "source": [
    "data.Source.value_counts()"
   ]
  },
  {
   "cell_type": "code",
   "execution_count": 18,
   "id": "d64e088e-43e8-40e5-beaf-628aec52dba0",
   "metadata": {},
   "outputs": [
    {
     "data": {
      "text/plain": [
       "201.0    2080341\n",
       "241.0     249852\n",
       "245.0      40338\n",
       "229.0      22932\n",
       "203.0      17639\n",
       "222.0      13154\n",
       "244.0      12185\n",
       "406.0      11109\n",
       "246.0       7118\n",
       "343.0       6930\n",
       "202.0       6298\n",
       "247.0       4775\n",
       "236.0       2121\n",
       "206.0       1274\n",
       "248.0       1025\n",
       "339.0        920\n",
       "341.0        592\n",
       "336.0         89\n",
       "200.0         66\n",
       "239.0         54\n",
       "351.0          6\n",
       "Name: TMC, dtype: int64"
      ]
     },
     "execution_count": 18,
     "metadata": {},
     "output_type": "execute_result"
    }
   ],
   "source": [
    "data.TMC.value_counts()"
   ]
  },
  {
   "cell_type": "code",
   "execution_count": 19,
   "id": "2ee8d2ed-00c3-4716-b237-053b9e11d4bd",
   "metadata": {},
   "outputs": [
    {
     "data": {
      "text/plain": [
       "2    2373210\n",
       "3     998913\n",
       "4     112320\n",
       "1      29174\n",
       "Name: Severity, dtype: int64"
      ]
     },
     "execution_count": 19,
     "metadata": {},
     "output_type": "execute_result"
    }
   ],
   "source": [
    "data.Severity.value_counts()"
   ]
  },
  {
   "cell_type": "code",
   "execution_count": 27,
   "id": "e9ecd00e-e183-4eac-96e4-9184ff35f91e",
   "metadata": {},
   "outputs": [
    {
     "data": {
      "text/plain": [
       "parsed_date    3513617\n",
       "Name: parsed_starttime, dtype: int64"
      ]
     },
     "execution_count": 27,
     "metadata": {},
     "output_type": "execute_result"
    }
   ],
   "source": [
    "# Check if all datetime values follow the same pattern. If the result of value_counts() is 100% 'parsed_date', then everything's good.\n",
    "#data['parsed_starttime'] = pd.to_datetime(data['Start_Time'], format='%Y-%m-%d %H:%M:%S')\n",
    "data['parsed_starttime'] = data.apply(lambda x: homo_check(x['Start_Time'], id = \"datetime\"), axis = 1)\n",
    "data.parsed_starttime.value_counts()"
   ]
  },
  {
   "cell_type": "code",
   "execution_count": 28,
   "id": "3b3a7921-3966-424a-aeae-ffc93c894725",
   "metadata": {},
   "outputs": [
    {
     "data": {
      "text/plain": [
       "parsed_date    3513617\n",
       "Name: parsed_endtime, dtype: int64"
      ]
     },
     "execution_count": 28,
     "metadata": {},
     "output_type": "execute_result"
    }
   ],
   "source": [
    "# Check if all datetime values follow the same pattern. If the result of value_counts() is 100% 'parsed_date', then everything's good.\n",
    "#data['parsed_endtime'] = pd.to_datetime(data['End_Time'], format='%Y-%m-%d %H:%M:%S')\n",
    "data['parsed_endtime'] = data.apply(lambda x: homo_check(x['End_Time'], id = \"datetime\"), axis = 1)\n",
    "data.parsed_endtime.value_counts()"
   ]
  },
  {
   "cell_type": "code",
   "execution_count": 60,
   "id": "fc8d1f88-fae2-4e09-ab47-a1a1ee6ff69b",
   "metadata": {},
   "outputs": [
    {
     "name": "stdout",
     "output_type": "stream",
     "text": [
      "-67.113167\n",
      "-124.623833\n",
      "49.002201\n",
      "24.555269\n"
     ]
    }
   ],
   "source": [
    "# Find the boundary values for the coordinates. These can be plotted on a map to see if they agree with the Country column.\n",
    "print(data.Start_Lng.max())\n",
    "print(data.Start_Lng.min())\n",
    "print(data.Start_Lat.max())\n",
    "print(data.Start_Lat.min())"
   ]
  },
  {
   "cell_type": "code",
   "execution_count": 43,
   "id": "3b138eeb-fe0c-45ec-b130-1e6ae2562fb9",
   "metadata": {},
   "outputs": [
    {
     "data": {
      "text/plain": [
       "333.630004883"
      ]
     },
     "execution_count": 43,
     "metadata": {},
     "output_type": "execute_result"
    }
   ],
   "source": [
    "data['Distance(mi)'].max()"
   ]
  },
  {
   "cell_type": "code",
   "execution_count": 44,
   "id": "e0b44648-79ba-461b-8b7b-ae52e3e1b669",
   "metadata": {},
   "outputs": [
    {
     "data": {
      "text/plain": [
       "At I-15 - Accident.                                                                 2123\n",
       "At I-5 - Accident.                                                                  1928\n",
       "At I-405/San Diego Fwy - Accident.                                                  1782\n",
       "At I-605 - Accident.                                                                1492\n",
       "At Grand Ave - Accident.                                                            1117\n",
       "                                                                                    ... \n",
       "Accident on SC-402 at Bellomy Ln.                                                      1\n",
       "One lane blocked due to accident on I-16 Westbound at Exit 58 GA-199.                  1\n",
       "Right lane blocked due to accident on I-285 Westbound at Exit 2 Camp Creek Pkwy.       1\n",
       "Accident on Cane Gully Rd at Caddell Rd.                                               1\n",
       "Ramp closed to The City Dr/Exit 14A - Road closed due to accident.                     1\n",
       "Name: Description, Length: 1780092, dtype: int64"
      ]
     },
     "execution_count": 44,
     "metadata": {},
     "output_type": "execute_result"
    }
   ],
   "source": [
    "data.Description.value_counts()"
   ]
  },
  {
   "cell_type": "code",
   "execution_count": 48,
   "id": "87197e5a-eed8-4e14-9316-7b160352064b",
   "metadata": {},
   "outputs": [
    {
     "data": {
      "text/plain": [
       "9999997.0"
      ]
     },
     "execution_count": 48,
     "metadata": {},
     "output_type": "execute_result"
    }
   ],
   "source": [
    "data.Number.max()"
   ]
  },
  {
   "cell_type": "code",
   "execution_count": 52,
   "id": "af86cfde-8149-4085-bcd4-bd6f68e156b8",
   "metadata": {},
   "outputs": [
    {
     "name": "stdout",
     "output_type": "stream",
     "text": [
      "                ID Source  TMC  Severity           Start_Time  \\\n",
      "3512066  A-3512230   Bing  NaN         2  2019-08-20 17:53:30   \n",
      "\n",
      "                    End_Time  Start_Lat  Start_Lng    End_Lat    End_Lng  \\\n",
      "3512066  2019-08-20 18:21:49  39.197346 -120.09933  39.198302 -120.09807   \n",
      "\n",
      "         Distance(mi)                                       Description  \\\n",
      "3512066         0.094  At CA-267/N Shore Blvd - Accident. Lane blocked.   \n",
      "\n",
      "            Number          Street Side        City  County State Zipcode  \\\n",
      "3512066  9999997.0   Chinquapin Rd    L  Tahoe City  Placer    CA   96145   \n",
      "\n",
      "        Country    Timezone Airport_Code    Weather_Timestamp  Temperature(F)  \\\n",
      "3512066      US  US/Pacific         KTRK  2019-08-20 17:45:00            79.0   \n",
      "\n",
      "         Wind_Chill(F)  Humidity(%)  Pressure(in)  Visibility(mi)  \\\n",
      "3512066           79.0         23.0         24.28            10.0   \n",
      "\n",
      "        Wind_Direction  Wind_Speed(mph)  Precipitation(in) Weather_Condition  \\\n",
      "3512066              W             15.0                0.0     Partly Cloudy   \n",
      "\n",
      "         Amenity   Bump  Crossing  Give_Way  Junction  No_Exit  Railway  \\\n",
      "3512066    False  False     False     False     False    False    False   \n",
      "\n",
      "         Roundabout  Station   Stop  Traffic_Calming  Traffic_Signal  \\\n",
      "3512066       False    False  False            False           False   \n",
      "\n",
      "         Turning_Loop Sunrise_Sunset Civil_Twilight Nautical_Twilight  \\\n",
      "3512066         False            Day            Day               Day   \n",
      "\n",
      "        Astronomical_Twilight   parsed_id parsed_starttime parsed_endtime  \n",
      "3512066                   Day  correct ID      parsed_date    parsed_date  \n"
     ]
    }
   ],
   "source": [
    "print(data[data['Number'] == 9999997])"
   ]
  },
  {
   "cell_type": "code",
   "execution_count": 56,
   "id": "5e9a851f-ee4f-4568-959c-858e030e0bf0",
   "metadata": {},
   "outputs": [
    {
     "name": "stdout",
     "output_type": "stream",
     "text": [
      "            ID    Source    TMC  Severity           Start_Time  \\\n",
      "27076  A-27077  MapQuest  201.0         2  2016-08-12 20:21:24   \n",
      "\n",
      "                  End_Time  Start_Lat   Start_Lng  End_Lat  End_Lng  \\\n",
      "27076  2016-08-12 20:51:24  37.712921 -122.139587      NaN      NaN   \n",
      "\n",
      "       Distance(mi)                                         Description  \\\n",
      "27076           0.0  Accident on CA-185 14th St Eastbound at 140th Ave.   \n",
      "\n",
      "        Number     Street Side         City   County State Zipcode Country  \\\n",
      "27076  14000.0  E 14th St       San Leandro  Alameda    CA   94578      US   \n",
      "\n",
      "         Timezone Airport_Code    Weather_Timestamp  Temperature(F)  \\\n",
      "27076  US/Pacific         KHWD  2016-08-12 19:54:00            64.9   \n",
      "\n",
      "       Wind_Chill(F)  Humidity(%)  Pressure(in)  Visibility(mi)  \\\n",
      "27076            NaN         63.0          30.0            10.0   \n",
      "\n",
      "      Wind_Direction  Wind_Speed(mph)  Precipitation(in) Weather_Condition  \\\n",
      "27076            WNW             10.4                NaN             Clear   \n",
      "\n",
      "       Amenity   Bump  Crossing  Give_Way  Junction  No_Exit  Railway  \\\n",
      "27076    False  False      True     False     False    False    False   \n",
      "\n",
      "       Roundabout  Station   Stop  Traffic_Calming  Traffic_Signal  \\\n",
      "27076       False    False  False            False           False   \n",
      "\n",
      "       Turning_Loop Sunrise_Sunset Civil_Twilight Nautical_Twilight  \\\n",
      "27076         False          Night            Day               Day   \n",
      "\n",
      "      Astronomical_Twilight   parsed_id parsed_starttime parsed_endtime  \n",
      "27076                   Day  correct ID      parsed_date    parsed_date  \n"
     ]
    }
   ],
   "source": [
    "print(data[data['Side'] == \" \"])"
   ]
  },
  {
   "cell_type": "code",
   "execution_count": 69,
   "id": "9653ba0a-7d4b-42f7-9bb7-a367c70636a2",
   "metadata": {},
   "outputs": [
    {
     "name": "stdout",
     "output_type": "stream",
     "text": [
      "0.0\n",
      "0.0\n",
      "0.29451104090172603\n",
      "0.0\n",
      "0.0\n",
      "0.0\n",
      "0.0\n",
      "0.0\n",
      "0.7054889590982739\n",
      "0.7054889590982739\n",
      "0.0\n",
      "2.84607001844538e-07\n",
      "0.6440269386219386\n",
      "0.0\n",
      "0.0\n",
      "3.187598420658825e-05\n",
      "0.0\n",
      "0.0\n"
     ]
    }
   ],
   "source": [
    "# Calculate what share of each column is populated by NaN values\n",
    "\n",
    "print(len(data[data['ID'].isna()].index) / len(data.index))\n",
    "print(len(data[data['Source'].isna()].index) / len(data.index))\n",
    "print(len(data[data['TMC'].isna()].index) / len(data.index))            # 0.29\n",
    "print(len(data[data['Severity'].isna()].index) / len(data.index))\n",
    "print(len(data[data['Start_Time'].isna()].index) / len(data.index))\n",
    "print(len(data[data['End_Time'].isna()].index) / len(data.index))\n",
    "print(len(data[data['Start_Lat'].isna()].index) / len(data.index))\n",
    "print(len(data[data['Start_Lng'].isna()].index) / len(data.index))\n",
    "print(len(data[data['End_Lat'].isna()].index) / len(data.index))        # 0.7\n",
    "print(len(data[data['End_Lng'].isna()].index) / len(data.index))        # 0.7\n",
    "print(len(data[data['Distance(mi)'].isna()].index) / len(data.index))\n",
    "print(len(data[data['Description'].isna()].index) / len(data.index))\n",
    "print(len(data[data['Number'].isna()].index) / len(data.index))         # 0.6\n",
    "print(len(data[data['Street'].isna()].index) / len(data.index))\n",
    "print(len(data[data['Side'].isna()].index) / len(data.index))\n",
    "print(len(data[data['City'].isna()].index) / len(data.index))\n",
    "print(len(data[data['County'].isna()].index) / len(data.index))\n",
    "print(len(data[data['State'].isna()].index) / len(data.index))"
   ]
  },
  {
   "cell_type": "code",
   "execution_count": null,
   "id": "615fc798-567f-4c9f-8598-9e929cc1ffd8",
   "metadata": {},
   "outputs": [],
   "source": []
  }
 ],
 "metadata": {
  "kernelspec": {
   "display_name": "Python 3 (ipykernel)",
   "language": "python",
   "name": "python3"
  },
  "language_info": {
   "codemirror_mode": {
    "name": "ipython",
    "version": 3
   },
   "file_extension": ".py",
   "mimetype": "text/x-python",
   "name": "python",
   "nbconvert_exporter": "python",
   "pygments_lexer": "ipython3",
   "version": "3.9.1"
  }
 },
 "nbformat": 4,
 "nbformat_minor": 5
}
