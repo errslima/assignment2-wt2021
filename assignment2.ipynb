{
 "cells": [
  {
   "cell_type": "markdown",
   "id": "22c899df-d2b8-47e0-a780-5f474279c957",
   "metadata": {},
   "source": [
    "# Opdracht 2"
   ]
  },
  {
   "cell_type": "markdown",
   "id": "95a3a314-d33b-4711-abfc-9910d9531c55",
   "metadata": {},
   "source": [
    "1. Let's get the CSV-file in jupyter\n",
    "    1. Let's clean the data\n",
    "        1. Correct the datatypes\n",
    "        2. Work on the duplicates\n",
    "        3. Work on outliers\n",
    "        4. Work on missing values\n",
    "            1. Does all the data make sense (verifying data with statistics)\n",
    "    2. Doing analysis"
   ]
  },
  {
   "cell_type": "markdown",
   "id": "c478e777-339e-4ad1-a8c3-28c8d51f74b3",
   "metadata": {},
   "source": [
    "# 1. Lets get the first CSV-file in jupyter"
   ]
  },
  {
   "cell_type": "code",
   "execution_count": 1,
   "id": "d2b06817",
   "metadata": {},
   "outputs": [],
   "source": [
    "import pandas as pd\n",
    "import numpy as np\n",
    "import re\n",
    "import seaborn as sns\n",
    "#import ipynb.fs.defs.functions2 as enzo\n",
    "\n",
    "# Remove restrictions on amount of rows and columns that can be displayed in pandas dataframes.\n",
    "pd.set_option('display.max_rows', None)\n",
    "pd.set_option('display.max_columns', None)\n",
    "pd.set_option('display.width', None)\n",
    "pd.set_option('display.max_colwidth', None)\n",
    "\n",
    "#data = pd.read_csv(r\"C:\\Users\\jorri\\OneDrive\\Documenten\\WT\\Opdracht 2\\US_Accidents_June20.csv\")"
   ]
  },
  {
   "cell_type": "markdown",
   "id": "9f1fb941-4cc9-41eb-8ced-5b6a9866b76d",
   "metadata": {
    "tags": []
   },
   "source": [
    "## A. Let's clean the data"
   ]
  },
  {
   "cell_type": "markdown",
   "id": "b0a4748f-239d-41a7-9389-11a6722572c8",
   "metadata": {},
   "source": [
    "## a. Correct the datatypes"
   ]
  },
  {
   "cell_type": "code",
   "execution_count": 2,
   "id": "6204c0e3-d768-418c-a365-4c2cf644bd53",
   "metadata": {},
   "outputs": [],
   "source": [
    "# Store datetime columns in datetime format\n",
    "data['parsed_starttime'] = pd.to_datetime(data['Start_Time'], format='%Y-%m-%d %H:%M:%S')\n",
    "data['parsed_endtime'] = pd.to_datetime(data['End_Time'], format='%Y-%m-%d %H:%M:%S')\n",
    "data['distance_km'] = data['Distance(mi)'] * 1.60934\n",
    "\n",
    "#State (part II)\n",
    "data['State'] = data['State'].astype('category') #transform the column State into the datatype category\n",
    "\n",
    "#Zipcode\n",
    "data['Zipcode'] = data['Zipcode'].astype('category') #transform the column zipcode into the datatype category\n",
    "\n",
    "#Country\n",
    "data.pop('Country') #we can exclude this variable as it all contains US as the whole dataset contains info from the US\n",
    "\n",
    "#Turning_Loop\n",
    "data.pop('Turning_Loop') #we can exclude this variable as it all contains False\n",
    "\n",
    "#Timezone\n",
    "data['Timezone'] = data['Timezone'].astype('category') #transform the column timezone into the datatype category\n",
    "\n",
    "#Airport_Code\n",
    "data['Airport_Code'] = data['Airport_Code'].astype('category') #transform the column Airport_code into the datatype category\n",
    "\n",
    "#Weather_Timestamp\n",
    "data['Weather_Timestamp'] = pd.to_datetime(data['Weather_Timestamp'], format='%Y-%m-%d %H:%M:%S')\n",
    "\n",
    "#Temperature \n",
    "data['Temperature(C)'] = ((data['Temperature(F)'] - 32) * (5/9)) #this is the calculation that transforms the fahrenheit to celsius.\n",
    "\n",
    "#Wind_Chill(F) \n",
    "data['Wind_Chill(C)'] = ((data['Wind_Chill(F)'] - 32) * (5/9)) #this is the calculation that transforms the fahrenheit to celsius.\n",
    "\n",
    "#Pressure(in) - \n",
    "data['Pressure(in)'] = data['Pressure(in)'].astype('float') #lets first convert the pressure to float in order to do calculations\n",
    "data['Pressure(hPa)'] = (data['Pressure(in)'] * 33.86389) #this is the calculation that transforms it from inHg to hPa\n",
    "\n",
    "#Visibility(mi)\n",
    "data['Visibility(mi)'] = data['Visibility(mi)'].astype('float') #lets first convert the pressure to float in order to do calculations\n",
    "data['Visibility(km)'] = (data['Visibility(mi)'] * 1609.344) #this is the calculation that transforms the mi to km.\n",
    "\n",
    "#Wind_Direction\n",
    "data['Wind_Direction'].fillna('nan', inplace=True) #transform the NaN to 'NaN'(string) as it is giving problems in further fixing Wind_Direction \n",
    "data['Wind_Direction'] = data['Wind_Direction'].str.lower() #in case of differnences lower/higher cases between categories, we can make every category description in lowercase letters\n",
    "mapping = {'east':'e', 'north':'n', 'south':'s', 'west':'w', 'variable':'other', 'var':'other'} #let's recategorize the potential categories\n",
    "data['Wind_Direction'] = data['Wind_Direction'].replace(mapping)  #this allows us to replace the transformations stored in the variable mapping\n",
    "data['Wind_Direction'] = data['Wind_Direction'].replace('nan', np.NaN, regex=True) #lets transform 'NaN' (string) back to NaN and give the outcome 'var' also the NaN-value\n",
    "\n",
    "#Wind_Speed(mph) \n",
    "data['Wind_Speed(kph)'] = (data['Wind_Speed(mph)'] * 1.60934) #this does to trick in transforming the data from mph to kph\n",
    "\n",
    "#Precipitation(in) \n",
    "data['Precipitation(cm)'] = (data['Precipitation(in)'] * 2.54) #this does the trick from inches to cm\n",
    "\n",
    "#Weather_Condition \n",
    "data['Weather_Condition'] = data['Weather_Condition'].astype('category') #transform the column Airport_code into the datatype category\n",
    "\n",
    "#lets loose the variables that we transformed, which are Temperature(F), Wind_Chill(F), Pressure(in), Visibility(mi), Wind_Speed(mph), Precipitation(in)\n",
    "data = data.drop(['Temperature(F)', 'Wind_Chill(F)','Pressure(in)', 'Visibility(mi)','Wind_Speed(mph)', 'Precipitation(in)', 'Start_Time', 'End_Time', 'Distance(mi)'], axis = 1)"
   ]
  },
  {
   "cell_type": "code",
   "execution_count": 3,
   "id": "a9124c72-f884-4032-8163-d42d8cc4152b",
   "metadata": {},
   "outputs": [
    {
     "name": "stderr",
     "output_type": "stream",
     "text": [
      "C:\\Users\\jorri\\AppData\\Local\\Temp/ipykernel_20340/2117302779.py:2: FutureWarning: Treating datetime data as categorical rather than numeric in `.describe` is deprecated and will be removed in a future version of pandas. Specify `datetime_is_numeric=True` to silence this warning and adopt the future behavior now.\n",
      "  data['parsed_starttime'].describe() #last datapoint is in june so we are going to create quarterly data as yearly data is not going to work within powerbi\n"
     ]
    }
   ],
   "source": [
    "#range of values within dates\n",
    "data['parsed_starttime'].describe() #last datapoint is in june so we are going to create quarterly data as yearly data is not going to work within powerbi\n",
    "data['quarter'] = pd.PeriodIndex(data.parsed_starttime, freq='Q')"
   ]
  },
  {
   "cell_type": "markdown",
   "id": "6e80f193-0ef9-4d8e-a5dc-0fd2c87f0e55",
   "metadata": {},
   "source": [
    "## b. Work on the duplicates"
   ]
  },
  {
   "cell_type": "code",
   "execution_count": 4,
   "id": "167780a8-6f20-411f-b139-c66100f1d3ea",
   "metadata": {},
   "outputs": [
    {
     "name": "stdout",
     "output_type": "stream",
     "text": [
      "<class 'pandas.core.frame.DataFrame'>\n",
      "Int64Index: 3513617 entries, 0 to 3513616\n",
      "Data columns (total 48 columns):\n",
      " #   Column                 Dtype         \n",
      "---  ------                 -----         \n",
      " 0   ID                     object        \n",
      " 1   Source                 object        \n",
      " 2   TMC                    float64       \n",
      " 3   Severity               int64         \n",
      " 4   Start_Lat              float64       \n",
      " 5   Start_Lng              float64       \n",
      " 6   End_Lat                float64       \n",
      " 7   End_Lng                float64       \n",
      " 8   Description            object        \n",
      " 9   Number                 float64       \n",
      " 10  Street                 object        \n",
      " 11  Side                   object        \n",
      " 12  City                   object        \n",
      " 13  County                 object        \n",
      " 14  State                  category      \n",
      " 15  Zipcode                category      \n",
      " 16  Timezone               category      \n",
      " 17  Airport_Code           category      \n",
      " 18  Weather_Timestamp      datetime64[ns]\n",
      " 19  Humidity(%)            float64       \n",
      " 20  Wind_Direction         object        \n",
      " 21  Weather_Condition      category      \n",
      " 22  Amenity                bool          \n",
      " 23  Bump                   bool          \n",
      " 24  Crossing               bool          \n",
      " 25  Give_Way               bool          \n",
      " 26  Junction               bool          \n",
      " 27  No_Exit                bool          \n",
      " 28  Railway                bool          \n",
      " 29  Roundabout             bool          \n",
      " 30  Station                bool          \n",
      " 31  Stop                   bool          \n",
      " 32  Traffic_Calming        bool          \n",
      " 33  Traffic_Signal         bool          \n",
      " 34  Sunrise_Sunset         object        \n",
      " 35  Civil_Twilight         object        \n",
      " 36  Nautical_Twilight      object        \n",
      " 37  Astronomical_Twilight  object        \n",
      " 38  parsed_starttime       datetime64[ns]\n",
      " 39  parsed_endtime         datetime64[ns]\n",
      " 40  distance_km            float64       \n",
      " 41  Temperature(C)         float64       \n",
      " 42  Wind_Chill(C)          float64       \n",
      " 43  Pressure(hPa)          float64       \n",
      " 44  Visibility(km)         float64       \n",
      " 45  Wind_Speed(kph)        float64       \n",
      " 46  Precipitation(cm)      float64       \n",
      " 47  quarter                period[Q-DEC] \n",
      "dtypes: bool(12), category(5), datetime64[ns](3), float64(14), int64(1), object(12), period[Q-DEC](1)\n",
      "memory usage: 950.9+ MB\n"
     ]
    }
   ],
   "source": [
    "data = data.drop_duplicates() #lets drop full duplicates\n",
    "data.info() #we went from ... to ..."
   ]
  },
  {
   "cell_type": "markdown",
   "id": "79691530-b5a5-441b-ab19-6aad76f6e426",
   "metadata": {},
   "source": [
    "## c. Work on outliers"
   ]
  },
  {
   "cell_type": "code",
   "execution_count": 5,
   "id": "72e9c20a-50cd-458f-af42-480aeaafa8fa",
   "metadata": {},
   "outputs": [
    {
     "data": {
      "image/png": "[encoded data removed]",
      "text/plain": [
       "<Figure size 432x288 with 1 Axes>"
      ]
     },
     "metadata": {
      "needs_background": "light"
     },
     "output_type": "display_data"
    }
   ],
   "source": [
    "#Build boxplot - temperature \n",
    "sns.boxplot(x=data['Temperature(C)'])  #highest recorded temperature in US is 56.7 celsius, the lowest recorderd temperature −56.7. Those are then the limits which will be maintained\n",
    "data.loc[data['Temperature(C)'] > 56.7] = np.nan #replace values where it is higher than 56.7 with NAN's \n",
    "data.loc[data['Temperature(C)'] < -56.7] = np.nan #replace values where it is lower than -56.7 with NAN's \n",
    "\n",
    "#Build boxplot - Pressure(hPa) (Part I) - in hold\n",
    "sns.boxplot(x=data['Pressure(hPa)']) #it seems we have one observation around 2000 and 0 which seems very high and low compared ot the rest of the values so let's chech them out first - air pressure can be affected by altitude, temperature and humidity\n",
    "\n",
    "#Build boxplot - Wind_Speed(kph)\n",
    "sns.boxplot(x=data['Wind_Speed(kph)'])\n",
    "data.loc[data['Wind_Speed(kph)'] > 372] = np.nan #highest windspeed ever recorded in USA is 371.76 kph so everything above is, is not possible\n",
    "\n",
    "#Build boxplot - Precipitation(cm)\n",
    "sns.boxplot(x=data['Precipitation(cm)']) \n",
    "data.loc[data['Wind_Speed(kph)'] > 50] = np.nan #we don't find the values above 50 cm feasable as the highest amount of daily precipitation is for tennesse 21.082 cm (https://www.afsrepair.com/resources/rainiest-cities-towns-in-tennessee/) and for california is that 0.3302 cm in long beach which is around 15 km from the site (https://www.dailybreeze.com/2021/10/26/new-rainfall-records-set-at-lax-and-long-beach-airport/)"
   ]
  },
  {
   "cell_type": "markdown",
   "id": "e0f95838-9699-4ce7-9c10-2d39c61ad356",
   "metadata": {},
   "source": [
    "## d. Work on missing values"
   ]
  },
  {
   "cell_type": "code",
   "execution_count": 6,
   "id": "253e7d2c-3ee2-43c4-b4e6-49aff43b57a5",
   "metadata": {},
   "outputs": [
    {
     "data": {
      "text/plain": [
       "ID                        0.08\n",
       "Source                    0.08\n",
       "TMC                      29.50\n",
       "Severity                  0.08\n",
       "Start_Lat                 0.08\n",
       "Start_Lng                 0.08\n",
       "End_Lat                  70.58\n",
       "End_Lng                  70.58\n",
       "Description               0.08\n",
       "Number                   64.43\n",
       "Street                    0.08\n",
       "Side                      0.08\n",
       "City                      0.09\n",
       "County                    0.08\n",
       "State                     0.08\n",
       "Zipcode                   0.11\n",
       "Timezone                  0.19\n",
       "Airport_Code              0.27\n",
       "Weather_Timestamp         1.31\n",
       "Humidity(%)               2.06\n",
       "Wind_Direction            1.76\n",
       "Weather_Condition         2.25\n",
       "Amenity                   0.08\n",
       "Bump                      0.08\n",
       "Crossing                  0.08\n",
       "Give_Way                  0.08\n",
       "Junction                  0.08\n",
       "No_Exit                   0.08\n",
       "Railway                   0.08\n",
       "Roundabout                0.08\n",
       "Station                   0.08\n",
       "Stop                      0.08\n",
       "Traffic_Calming           0.08\n",
       "Traffic_Signal            0.08\n",
       "Sunrise_Sunset            0.09\n",
       "Civil_Twilight            0.09\n",
       "Nautical_Twilight         0.09\n",
       "Astronomical_Twilight     0.09\n",
       "parsed_starttime          0.08\n",
       "parsed_endtime            0.08\n",
       "distance_km               0.08\n",
       "Temperature(C)            1.95\n",
       "Wind_Chill(C)            53.22\n",
       "Pressure(hPa)             1.67\n",
       "Visibility(km)            2.24\n",
       "Wind_Speed(kph)          13.02\n",
       "Precipitation(cm)        57.70\n",
       "quarter                   0.08\n",
       "dtype: float64"
      ]
     },
     "execution_count": 6,
     "metadata": {},
     "output_type": "execute_result"
    }
   ],
   "source": [
    "#lets check the relative share of NA's within each column\n",
    "((data.isnull() | data.isna()).sum() * 100 / data.index.size).round(2)"
   ]
  },
  {
   "cell_type": "code",
   "execution_count": 8,
   "id": "fb27e1db-be73-488c-82d3-9545c63ffa51",
   "metadata": {},
   "outputs": [],
   "source": [
    "#data.to_csv(\"parsed_data.csv\", index = False)\n",
    "#data.to_csv(r'C:\\Users\\jorri\\OneDrive\\Documenten\\WT\\Opdracht 2\\parsed_data.csv', index = False)"
   ]
  },
  {
   "cell_type": "markdown",
   "id": "4844e549-be6f-4236-a5d1-16027ec7fe93",
   "metadata": {},
   "source": [
    "### i. Does all the data make sense (verifying data with statistics)"
   ]
  },
  {
   "cell_type": "markdown",
   "id": "4fd16b96-11e1-4c81-8e3b-4fe9cdca52c5",
   "metadata": {},
   "source": [
    "# B. Doing analysis"
   ]
  },
  {
   "cell_type": "code",
   "execution_count": null,
   "id": "9544db85-36e1-43fa-bc9e-ca6bec37c0a0",
   "metadata": {},
   "outputs": [],
   "source": []
  }
 ],
 "metadata": {
  "kernelspec": {
   "display_name": "Python 3 (ipykernel)",
   "language": "python",
   "name": "python3"
  },
  "language_info": {
   "codemirror_mode": {
    "name": "ipython",
    "version": 3
   },
   "file_extension": ".py",
   "mimetype": "text/x-python",
   "name": "python",
   "nbconvert_exporter": "python",
   "pygments_lexer": "ipython3",
   "version": "3.9.7"
  }
 },
 "nbformat": 4,
 "nbformat_minor": 5
}
